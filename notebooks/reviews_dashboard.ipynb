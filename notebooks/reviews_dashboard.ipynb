{
 "cells": [
  {
   "cell_type": "markdown",
   "metadata": {},
   "source": [
    "# Review Analysis Dashboard"
   ]
  },
  {
   "cell_type": "markdown",
   "metadata": {},
   "source": [
    "## Value and Use of the Dashboard in Back Market Customer Review Analysis\n",
    "\n",
    "A dashboard helps synthesize and visualize customer review trends to understand user satisfaction, identify recurring issues, and assess the impact of corrective actions. In this context, it provides several benefits:\n",
    "\n",
    "- **Tracking customer satisfaction**: By visualizing rating and sentiment trends, any decline in perceived quality can be detected early.\n",
    "- **Identifying frequent issues**: Review analysis helps pinpoint common complaints (e.g., delivery, product quality, customer service).\n",
    "- **Improving customer service responsiveness**: Measuring response speed and frequency allows Back Market to optimize complaint management.\n",
    "- **Monitoring temporal trends**: Analyzing reviews by months, days, and hours helps determine whether certain events impact satisfaction.\n",
    "- **Assessing corrective actions**: If improvements are implemented, tracking review trends can confirm whether they are effective.\n",
    "\n",
    "---\n",
    "\n",
    "## Top 10 Key Figures to Include in the Dashboard and Their Importance\n",
    "\n",
    "1. **Distribution of Ratings (Histogram)**  \n",
    "   → *Why it’s useful*: Provides a clear view of the proportion of positive and negative reviews. A high percentage of low ratings indicates potential issues.\n",
    "\n",
    "2. **Average Rating Evolution Over Time (Line Chart)**  \n",
    "   → *Why it’s useful*: Tracks satisfaction trends over time and evaluates the impact of corrective measures.\n",
    "\n",
    "3. **Sentiment Distribution of Reviews (Positive, Neutral, Negative - NLP-Based Analysis)**  \n",
    "   → *Why it’s useful*: Offers a more detailed understanding beyond numerical ratings by identifying emotions expressed in reviews.\n",
    "\n",
    "4. **Top 10 Keywords or Common Topics in Negative Reviews (Word Cloud or Bar Chart)**  \n",
    "   → *Why it’s useful*: Identifies the most frequently mentioned issues (e.g., \"slow delivery,\" \"defective product\").\n",
    "\n",
    "5. **Response Rate to Reviews (Including Average Response Time)**  \n",
    "   → *Why it’s useful*: Measures customer service responsiveness and engagement in handling customer feedback.\n",
    "\n",
    "6. **Proportion of Reviews with vs. Without a Response**  \n",
    "   → *Why it’s useful*: Highlights whether Back Market responds adequately to customer feedback.\n",
    "\n",
    "7. **Review Distribution by Day of the Week and Hour (Heatmap)**  \n",
    "   → *Why it’s useful*: Helps identify peak times for customer reviews, informing customer support staffing strategies.\n",
    "\n",
    "8. **Correlation Between Rating and Experience Date (Line Chart)**  \n",
    "   → *Why it’s useful*: Assesses whether ratings are influenced by the purchase period, helping adjust marketing and service strategies.\n",
    "\n",
    "9. **Comparison of Reviews with vs. Without a Response (Average Ratings)**  \n",
    "   → *Why it’s useful*: Determines if reviews receiving a response have improved ratings after customer service interaction.\n",
    "\n",
    "10. **Monthly Review Volume Evolution**  \n",
    "    → *Why it’s useful*: Measures customer engagement in leaving reviews and identifies periods with the highest review activity.\n",
    "\n",
    "---\n",
    "\n",
    "These insights enable Back Market to make data-driven decisions, enhance customer experience, and optimize service strategies."
   ]
  },
  {
   "cell_type": "markdown",
   "metadata": {
    "vscode": {
     "languageId": "plaintext"
    }
   },
   "source": [
    "### Required packages"
   ]
  },
  {
   "cell_type": "code",
   "execution_count": 1,
   "metadata": {},
   "outputs": [],
   "source": [
    "import dash\n",
    "from dash import dcc, html, Input, Output, Dash\n",
    "import pandas as pd\n",
    "import plotly.express as px\n",
    "from collections import Counter\n",
    "import nltk\n",
    "from nltk.util import ngrams\n",
    "from nltk.tokenize import word_tokenize\n",
    "from nltk.corpus import stopwords\n",
    "from wordcloud import WordCloud\n",
    "import matplotlib\n",
    "matplotlib.use('Agg')\n",
    "import matplotlib.pyplot as plt\n",
    "import io\n",
    "import base64"
   ]
  }
 ],
 "metadata": {
  "kernelspec": {
   "display_name": "venv_rev",
   "language": "python",
   "name": "python3"
  },
  "language_info": {
   "codemirror_mode": {
    "name": "ipython",
    "version": 3
   },
   "file_extension": ".py",
   "mimetype": "text/x-python",
   "name": "python",
   "nbconvert_exporter": "python",
   "pygments_lexer": "ipython3",
   "version": "3.11.10"
  }
 },
 "nbformat": 4,
 "nbformat_minor": 2
}
